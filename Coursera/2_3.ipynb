{
 "cells": [
  {
   "cell_type": "code",
   "execution_count": 1,
   "id": "68210aeb",
   "metadata": {},
   "outputs": [],
   "source": [
    "import scipy.stats"
   ]
  },
  {
   "cell_type": "code",
   "execution_count": 2,
   "id": "16d1b973",
   "metadata": {},
   "outputs": [],
   "source": [
    "mean_quest = 5.85\n",
    "sd_quest = 0.35"
   ]
  },
  {
   "cell_type": "code",
   "execution_count": 4,
   "id": "fdba3821",
   "metadata": {},
   "outputs": [
    {
     "data": {
      "text/plain": [
       "0.9419584331306727"
      ]
     },
     "execution_count": 4,
     "metadata": {},
     "output_type": "execute_result"
    }
   ],
   "source": [
    "prob6_4 = scipy.stats.norm.cdf((6.4 - mean_quest)/sd_quest) #probability of less then 6.4\n",
    "prob6_4"
   ]
  },
  {
   "cell_type": "code",
   "execution_count": 6,
   "id": "a701fa69",
   "metadata": {},
   "outputs": [
    {
     "data": {
      "text/plain": [
       "0.556798496816469"
      ]
     },
     "execution_count": 6,
     "metadata": {},
     "output_type": "execute_result"
    }
   ],
   "source": [
    "prob5_9 = scipy.stats.norm.cdf((5.9 - mean_quest)/sd_quest) #probability of less then 5.9\n",
    "prob5_9"
   ]
  },
  {
   "cell_type": "code",
   "execution_count": 12,
   "id": "4b07e95a",
   "metadata": {},
   "outputs": [
    {
     "data": {
      "text/plain": [
       "0.38515993631420375"
      ]
     },
     "execution_count": 12,
     "metadata": {},
     "output_type": "execute_result"
    }
   ],
   "source": [
    "#probability of between 6.4 and 5.9\n",
    "prob6_4 - prob5_9"
   ]
  },
  {
   "cell_type": "code",
   "execution_count": 13,
   "id": "d43b54de",
   "metadata": {},
   "outputs": [
    {
     "data": {
      "text/plain": [
       "0.3852"
      ]
     },
     "execution_count": 13,
     "metadata": {},
     "output_type": "execute_result"
    }
   ],
   "source": [
    "round(prob6_4 - prob5_9,4)"
   ]
  },
  {
   "cell_type": "code",
   "execution_count": null,
   "id": "9911d1e4",
   "metadata": {},
   "outputs": [],
   "source": []
  },
  {
   "cell_type": "markdown",
   "id": "d92ea4cb",
   "metadata": {},
   "source": [
    "The average hourly wage at a fast-food restaurant is $5.85 with a standard deviation of $0.35. \\\n",
    "Assume that the wages are normally distributed. The probability that a selected worker earns more than $6.90 is\n"
   ]
  },
  {
   "cell_type": "code",
   "execution_count": 14,
   "id": "0d8f1352",
   "metadata": {},
   "outputs": [],
   "source": [
    "mean_quest = 5.85\n",
    "sd_quest = 0.35"
   ]
  },
  {
   "cell_type": "code",
   "execution_count": 15,
   "id": "c008abba",
   "metadata": {},
   "outputs": [
    {
     "data": {
      "text/plain": [
       "0.9986501019683699"
      ]
     },
     "execution_count": 15,
     "metadata": {},
     "output_type": "execute_result"
    }
   ],
   "source": [
    "prob6_9 = scipy.stats.norm.cdf((6.9 - mean_quest)/sd_quest) #probability of less then 6.9\n",
    "prob6_9"
   ]
  },
  {
   "cell_type": "code",
   "execution_count": 16,
   "id": "2a8e3011",
   "metadata": {},
   "outputs": [
    {
     "name": "stdout",
     "output_type": "stream",
     "text": [
      "0.0013498980316301035\n"
     ]
    }
   ],
   "source": [
    "print(1 - prob6_9)"
   ]
  },
  {
   "cell_type": "code",
   "execution_count": null,
   "id": "3c62b3f9",
   "metadata": {},
   "outputs": [],
   "source": []
  },
  {
   "cell_type": "markdown",
   "id": "adaffcf2",
   "metadata": {},
   "source": [
    "The mineral content of a particular brand of  supplement pills is normally distributed with mean 490 mg \n",
    "and variance of 400. What is the probability that a randomly selected pill contains at least 500 mg of minerals?"
   ]
  },
  {
   "cell_type": "code",
   "execution_count": null,
   "id": "992ec632",
   "metadata": {},
   "outputs": [],
   "source": []
  },
  {
   "cell_type": "code",
   "execution_count": 41,
   "id": "1e8dbb7d",
   "metadata": {},
   "outputs": [],
   "source": [
    "import math\n",
    "\n",
    "mean_quest = 490\n",
    "sd_quest = math.sqrt(400)"
   ]
  },
  {
   "cell_type": "code",
   "execution_count": 42,
   "id": "2ac784b4",
   "metadata": {},
   "outputs": [
    {
     "name": "stdout",
     "output_type": "stream",
     "text": [
      "0.3085375387259869\n"
     ]
    }
   ],
   "source": [
    "prob500 = scipy.stats.norm.cdf((500 - mean_quest)/sd_quest) #probability of less then 500\n",
    "print(1 - prob500) #probability at least 500"
   ]
  },
  {
   "cell_type": "code",
   "execution_count": null,
   "id": "2cb78aea",
   "metadata": {},
   "outputs": [],
   "source": []
  },
  {
   "cell_type": "code",
   "execution_count": null,
   "id": "dca42651",
   "metadata": {},
   "outputs": [],
   "source": []
  },
  {
   "cell_type": "code",
   "execution_count": null,
   "id": "60c9006f",
   "metadata": {},
   "outputs": [],
   "source": []
  },
  {
   "cell_type": "code",
   "execution_count": null,
   "id": "709ff0b2",
   "metadata": {},
   "outputs": [],
   "source": []
  },
  {
   "cell_type": "code",
   "execution_count": 22,
   "id": "0575f319",
   "metadata": {},
   "outputs": [],
   "source": [
    "avg = 90\n",
    "sd = 20"
   ]
  },
  {
   "cell_type": "code",
   "execution_count": 33,
   "id": "874e9f2f",
   "metadata": {},
   "outputs": [],
   "source": [
    "Q1 = avg - (0.675)*sd\n",
    "Q3 = avg + (0.675)*sd"
   ]
  },
  {
   "cell_type": "code",
   "execution_count": 34,
   "id": "8961e203",
   "metadata": {},
   "outputs": [
    {
     "data": {
      "text/plain": [
       "76.5"
      ]
     },
     "execution_count": 34,
     "metadata": {},
     "output_type": "execute_result"
    }
   ],
   "source": [
    "Q1"
   ]
  },
  {
   "cell_type": "code",
   "execution_count": null,
   "id": "bc3d90b8",
   "metadata": {},
   "outputs": [],
   "source": []
  },
  {
   "cell_type": "code",
   "execution_count": null,
   "id": "9485e652",
   "metadata": {},
   "outputs": [],
   "source": []
  },
  {
   "cell_type": "markdown",
   "id": "5d460e42",
   "metadata": {},
   "source": [
    "Consider a normally distributed data set with mean μ = 63.18 inches and standard deviation σ= 13.27 inches. What is the z-score when x = 91.54 inches? (To 3 decimal places) \n"
   ]
  },
  {
   "cell_type": "code",
   "execution_count": 44,
   "id": "13a13d00",
   "metadata": {},
   "outputs": [
    {
     "data": {
      "text/plain": [
       "2.1371514694800307"
      ]
     },
     "execution_count": 44,
     "metadata": {},
     "output_type": "execute_result"
    }
   ],
   "source": [
    "(91.54-63.18)/13.27"
   ]
  },
  {
   "cell_type": "code",
   "execution_count": null,
   "id": "6fbe153d",
   "metadata": {},
   "outputs": [],
   "source": []
  },
  {
   "cell_type": "markdown",
   "id": "f2800907",
   "metadata": {},
   "source": [
    "Using the teacher's rating data, is there an association between native (native English speakers) \n",
    "and the number of credits taught? What test will you use? \n",
    "\n",
    "correct ! Chi-Square Test for Association\n",
    "\n",
    "\n",
    "\n",
    "\n",
    "\n",
    "Incorrect! ANOVA is used to check if there is a difference between two or more group means \n",
    "\n"
   ]
  },
  {
   "cell_type": "code",
   "execution_count": null,
   "id": "c77bd6b8",
   "metadata": {},
   "outputs": [],
   "source": [
    "Question 2\n",
    "If I wanted to test for association using chi-square test, whether there is an association between gender (Male or Female) \n",
    "and tenure-ship (tenured or not tenured), what will be my degree of freedom?\n",
    "\n",
    "1 Correct\n",
    "\n",
    "Formula for degree of freedom for chi-square if ( r-1) *(c-1)\n",
    "\n"
   ]
  },
  {
   "cell_type": "code",
   "execution_count": null,
   "id": "5414f383",
   "metadata": {},
   "outputs": [],
   "source": [
    "Consider a normally distributed data set with mean μ = 63.18 inches and standard deviation σ= 13.27 inches.\n",
    "What is the z-score when x = 91.54 inches? (To 3 decimal places) \n",
    "\n",
    "2.137\n",
    "\n"
   ]
  },
  {
   "attachments": {
    "image.png": {
     "image/png": "[encoded data removed]"
    }
   },
   "cell_type": "markdown",
   "id": "ccffd72d",
   "metadata": {},
   "source": [
    "![image.png](attachment:image.png)\n",
    "\n",
    "Battery life of smartphones is of great concern to customers. A consumer group tested four brands of smartphones to determine the battery life. Samples of phones of each brand were fully charged and left to run until the battery died. The table above displays the number of hours each of the batteries lasted. What test will be be using to test the difference in means?\n",
    "\n",
    "Anova Correct\n",
    "\n",
    "\n",
    "\n",
    "\n",
    "\n",
    "Pearson Correlation Test : Incorrect! This is used to check strength and significance of the relationship between two continuous variables\n",
    "\n"
   ]
  },
  {
   "cell_type": "markdown",
   "id": "b2b2bcba",
   "metadata": {},
   "source": [
    "A room  in a laboratory is only considered safe if the mean radiation level is 400 or less. \n",
    "When a sample of 10 radiation measurements were taken, the mean value of the radiation was 414 with a standard deviation of 17.\n",
    "There are concerns that mean radiation is above 414. Radiation levels in the lab are known to follow a normal distribution \n",
    "with standard deviation 22. We will like to conduct a hypothesis test at the 5% level of signiﬁcance to determine whether\n",
    "there is evidence that the laboratory is unsafe.\n",
    "\n",
    "What will be the appropriate test?\n",
    "\n",
    "z-test\n",
    "\n",
    "\n",
    "\n",
    "\n",
    "\n",
    "t-test Incorrect! We have the population standard deviation\n",
    "Incorrect! ANOVA is used to check the statistical difference between two or more group means\n",
    "\n"
   ]
  },
  {
   "cell_type": "markdown",
   "id": "6f058b98",
   "metadata": {},
   "source": [
    "The mineral content of a particular brand of  supplement pills is normally distributed with mean 490 mg and variance of 400. What is the probability that a randomly selected pill contains at least 500 mg of minerals?\n",
    "\n",
    "0.3085\n",
    "\n",
    "\n"
   ]
  },
  {
   "cell_type": "markdown",
   "id": "740911e6",
   "metadata": {},
   "source": [
    "The P-value for a normally distributed right-tailed test is P=0.042. Which of the following is INCORRECT?\n",
    "\n",
    "\n",
    "The z-score test statistic is approximately z=1.73 Incorrect This is correct!\n",
    "\n",
    "\n",
    "\n",
    "\n",
    "The P-value for a two-tailed test based on the same sample would be P=0.084 \n",
    "Incorrect This is correct! P-values of two tailed test are doubled. However we are looking for the INCORRECT statement."
   ]
  },
  {
   "cell_type": "code",
   "execution_count": null,
   "id": "a19d00ec",
   "metadata": {},
   "outputs": [],
   "source": []
  },
  {
   "cell_type": "code",
   "execution_count": null,
   "id": "af92e79f",
   "metadata": {},
   "outputs": [],
   "source": [
    "The time X taken by a cashier in a grocery store express lane to complete a transaction follows a normal distribution \n",
    "with mean 90 seconds and standard deviation 20 seconds.What is the first quartile of the distribution of X (in seconds)?\n",
    "\n",
    "\n",
    "76.6\n",
    "\n",
    "\n"
   ]
  },
  {
   "cell_type": "markdown",
   "id": "6de89766",
   "metadata": {},
   "source": [
    "A man accused of committing a crime is taking a polygraph (lie detector) test. The polygraph is essentially testing the hypotheses\n",
    "\n",
    "H0: The man is telling the truth  vs. Ha: The man is not telling the truth.\n",
    "\n",
    "Suppose we use a 5% level of significance. Based on the man’s responses to the questions asked, the polygraph \n",
    "determines a P-value of 0.08. We conclude that:\n",
    "\n",
    "\n",
    "cevap bu olacak: We fail to reject the null hypothesis as there is insufficient evidence that the man is not telling the truth.\n",
    "\n",
    "\n",
    "\n",
    "\n",
    "\n",
    "We reject the null hypothesis as there is sufficient evidence that the man is telling the truth.\n",
    "Incorrect! We don't reject the null if the p-value of the test is greater than the significance level\n",
    "\n",
    "\n",
    " The probability that the man is telling the truth is 0.08.\n",
    "Incorrect\n",
    "P-values don't test the probability of an event happening. A P-value is the probability of an observation is as a result of random occurrences or not.\n"
   ]
  },
  {
   "cell_type": "markdown",
   "id": "32965003",
   "metadata": {},
   "source": [
    "The average hourly wage at a fast-food restaurant is $5.85 with a standard deviation of $0.35. Assume that the wages are normally distributed. The probability that a selected worker earns more than $6.90 is\n",
    "\n",
    "0.0013"
   ]
  },
  {
   "cell_type": "code",
   "execution_count": null,
   "id": "01134d7b",
   "metadata": {},
   "outputs": [],
   "source": []
  },
  {
   "cell_type": "code",
   "execution_count": null,
   "id": "65d086fa",
   "metadata": {},
   "outputs": [],
   "source": []
  },
  {
   "cell_type": "code",
   "execution_count": null,
   "id": "c15d6f44",
   "metadata": {},
   "outputs": [],
   "source": []
  }
 ],
 "metadata": {
  "kernelspec": {
   "display_name": "Python 3 (ipykernel)",
   "language": "python",
   "name": "python3"
  },
  "language_info": {
   "codemirror_mode": {
    "name": "ipython",
    "version": 3
   },
   "file_extension": ".py",
   "mimetype": "text/x-python",
   "name": "python",
   "nbconvert_exporter": "python",
   "pygments_lexer": "ipython3",
   "version": "3.9.7"
  }
 },
 "nbformat": 4,
 "nbformat_minor": 5
}
